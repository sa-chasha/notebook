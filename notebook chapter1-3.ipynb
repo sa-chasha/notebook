{
 "cells": [
  {
   "cell_type": "code",
   "execution_count": 2,
   "metadata": {},
   "outputs": [],
   "source": [
    "import numpy as np\n",
    "import pandas as pd\n",
    "#import matplotlib.pyplot as plt \n",
    "#from mpl_toolkits.mplot3d.axes3d import Axes3D"
   ]
  },
  {
   "cell_type": "code",
   "execution_count": 4,
   "metadata": {},
   "outputs": [],
   "source": [
    "class Para:\n",
    "    path_data = '20171103_20201103.xlsx'\n",
    "    range_data = range(3,13)\n",
    "    hold_time = range(3,13)\n",
    "    percent = 0.5\n",
    "para = Para()"
   ]
  },
  {
   "cell_type": "code",
   "execution_count": 18,
   "metadata": {},
   "outputs": [],
   "source": [
    "number = 29\n",
    "new_columns = range(number)\n",
    "data_processed = pd.read_excel(para.path_data, 'Sheet1', index_col=None, na_values=['NA'],names = new_columns, header=0) #待处理数据\n",
    "data_processed = data_processed.dropna(axis=0)\n",
    "hrData = pd.read_excel('HR-Employee-Attrition.xlsx')"
   ]
  },
  {
   "cell_type": "markdown",
   "metadata": {},
   "source": [
    "### Numpy"
   ]
  },
  {
   "cell_type": "markdown",
   "metadata": {},
   "source": [
    "用python化的方式进行列表推导：\n",
    "\n",
    "关于np.around()和int()：前者保存四舍五入值，结果的数据类型为float64. 后者只取整数部分，数据类型为int。"
   ]
  },
  {
   "cell_type": "code",
   "execution_count": 55,
   "metadata": {
    "scrolled": true
   },
   "outputs": [],
   "source": [
    "#计算出总数/section并以列表形式显示答案\n",
    "#总数\n",
    "section = range(6,24)\n",
    "num = data_processed.shape[0]-2\n",
    "num = num*np.ones(len(section))\n",
    "def list_zip(section,amount): \n",
    "    result = int(min([num/a for a,num in zip(section,amount)]))\n",
    "    return result\n",
    "result = list_zip(section,num)\n",
    "#最后得到的结果是整数"
   ]
  },
  {
   "cell_type": "markdown",
   "metadata": {},
   "source": [
    "numpy中的维度称为轴(axe)，轴数和维度也称为数组的秩或维数。\n",
    "从列表中创建numpy对象："
   ]
  },
  {
   "cell_type": "code",
   "execution_count": 56,
   "metadata": {},
   "outputs": [
    {
     "data": {
      "text/plain": [
       "array([ 6,  7,  8,  9, 10, 11, 12, 13, 14, 15, 16, 17, 18, 19, 20, 21, 22,\n",
       "       23])"
      ]
     },
     "execution_count": 56,
     "metadata": {},
     "output_type": "execute_result"
    }
   ],
   "source": [
    "section = np.array(section)\n",
    "section"
   ]
  },
  {
   "cell_type": "markdown",
   "metadata": {},
   "source": [
    "查看对象类型： "
   ]
  },
  {
   "cell_type": "code",
   "execution_count": 35,
   "metadata": {},
   "outputs": [
    {
     "data": {
      "text/plain": [
       "numpy.ndarray"
      ]
     },
     "execution_count": 35,
     "metadata": {},
     "output_type": "execute_result"
    }
   ],
   "source": [
    "type(section)"
   ]
  },
  {
   "cell_type": "markdown",
   "metadata": {},
   "source": [
    "从内置的numpy函数中创建数组：np.zeros(length,dtype = int/float),ones,np.arrange(start = int,stop = int,step = int)\n",
    "不提供arrange的step则默认为1\n",
    "\n",
    "arrange和range：有头无尾。\n",
    "\n",
    "另外还有np.linspace。"
   ]
  },
  {
   "cell_type": "code",
   "execution_count": 37,
   "metadata": {},
   "outputs": [
    {
     "data": {
      "text/plain": [
       "1"
      ]
     },
     "execution_count": 37,
     "metadata": {},
     "output_type": "execute_result"
    }
   ],
   "source": [
    "section.ndim #维数"
   ]
  },
  {
   "cell_type": "markdown",
   "metadata": {},
   "source": [
    "索引，切片和*重构*"
   ]
  },
  {
   "cell_type": "code",
   "execution_count": 57,
   "metadata": {},
   "outputs": [
    {
     "name": "stdout",
     "output_type": "stream",
     "text": [
      "[[ 6  7  8  9 10 11 12 13 14]\n",
      " [15 16 17 18 19 20 21 22 23]]\n"
     ]
    }
   ],
   "source": [
    "a = int(len(section)/2)\n",
    "section_reshape = section.reshape(2,a)\n",
    "print(section_reshape)"
   ]
  },
  {
   "cell_type": "markdown",
   "metadata": {},
   "source": [
    "使用numpy进行模拟：\n",
    "接收low，high，size参数以调整输出随机整数范围的np.random.randint()函数\n",
    "\n",
    "关于：numpy.bincount：https://numpy.org/doc/stable/reference/generated/numpy.bincount.html"
   ]
  },
  {
   "cell_type": "markdown",
   "metadata": {},
   "source": [
    "### Pandas"
   ]
  },
  {
   "cell_type": "markdown",
   "metadata": {},
   "source": [
    "导入matlplotlib库："
   ]
  },
  {
   "cell_type": "code",
   "execution_count": 59,
   "metadata": {},
   "outputs": [],
   "source": [
    "import matplotlib.pyplot as plt\n",
    "%matplotlib inline"
   ]
  },
  {
   "cell_type": "markdown",
   "metadata": {},
   "source": [
    "Series的每个数据点均与一个索引关联。\n",
    "\n",
    "创建Series："
   ]
  },
  {
   "cell_type": "code",
   "execution_count": 79,
   "metadata": {},
   "outputs": [
    {
     "data": {
      "text/plain": [
       "801010.SI      1.4959\n",
       "801020.SI     2.49598\n",
       "801030.SI     2.98773\n",
       "801040.SI     4.74229\n",
       "801050.SI    0.914182\n",
       "801080.SI     6.34559\n",
       "801110.SI     7.09813\n",
       "801120.SI      5.3385\n",
       "801130.SI     1.26189\n",
       "801140.SI     1.88639\n",
       "801150.SI     2.84426\n",
       "801160.SI     1.48315\n",
       "801170.SI    0.678149\n",
       "801180.SI    0.101252\n",
       "801200.SI     2.05061\n",
       "801210.SI     4.73094\n",
       "801230.SI     3.26119\n",
       "801710.SI     1.17461\n",
       "801720.SI    -1.05197\n",
       "801730.SI     5.33065\n",
       "801740.SI     2.94796\n",
       "801750.SI     3.97764\n",
       "801760.SI     2.33383\n",
       "801770.SI     6.70756\n",
       "801780.SI   -0.381549\n",
       "801790.SI     4.83573\n",
       "801880.SI     3.88528\n",
       "801890.SI     2.05517\n",
       "dtype: object"
      ]
     },
     "execution_count": 79,
     "metadata": {},
     "output_type": "execute_result"
    }
   ],
   "source": [
    "#取行业编号\n",
    "key = data_processed.iloc[1,1:].values\n",
    "#取当天涨跌幅\n",
    "data = data_processed.iloc[2,1:].values\n",
    "#生成索引为行业编号数据为当天涨幅的新Series：\n",
    "result = pd.Series(data,index = key)\n",
    "result"
   ]
  },
  {
   "cell_type": "markdown",
   "metadata": {},
   "source": [
    "### Pandas操作"
   ]
  },
  {
   "cell_type": "markdown",
   "metadata": {},
   "source": [
    "从文件中加载或创建DataFrame的时候，首先需要检查加载后的数据（前后五行）：data.head(),tail()。"
   ]
  },
  {
   "cell_type": "code",
   "execution_count": 81,
   "metadata": {},
   "outputs": [
    {
     "data": {
      "text/html": [
       "<div>\n",
       "<style scoped>\n",
       "    .dataframe tbody tr th:only-of-type {\n",
       "        vertical-align: middle;\n",
       "    }\n",
       "\n",
       "    .dataframe tbody tr th {\n",
       "        vertical-align: top;\n",
       "    }\n",
       "\n",
       "    .dataframe thead th {\n",
       "        text-align: right;\n",
       "    }\n",
       "</style>\n",
       "<table border=\"1\" class=\"dataframe\">\n",
       "  <thead>\n",
       "    <tr style=\"text-align: right;\">\n",
       "      <th></th>\n",
       "      <th>0</th>\n",
       "      <th>1</th>\n",
       "      <th>2</th>\n",
       "      <th>3</th>\n",
       "      <th>4</th>\n",
       "      <th>5</th>\n",
       "      <th>6</th>\n",
       "      <th>7</th>\n",
       "      <th>8</th>\n",
       "      <th>9</th>\n",
       "      <th>...</th>\n",
       "      <th>19</th>\n",
       "      <th>20</th>\n",
       "      <th>21</th>\n",
       "      <th>22</th>\n",
       "      <th>23</th>\n",
       "      <th>24</th>\n",
       "      <th>25</th>\n",
       "      <th>26</th>\n",
       "      <th>27</th>\n",
       "      <th>28</th>\n",
       "    </tr>\n",
       "  </thead>\n",
       "  <tbody>\n",
       "    <tr>\n",
       "      <th>152</th>\n",
       "      <td>2020-10-09 00:00:00</td>\n",
       "      <td>1.04712</td>\n",
       "      <td>2.51009</td>\n",
       "      <td>3.75365</td>\n",
       "      <td>1.85873</td>\n",
       "      <td>2.91338</td>\n",
       "      <td>4.20236</td>\n",
       "      <td>2.17124</td>\n",
       "      <td>2.06572</td>\n",
       "      <td>3.24089</td>\n",
       "      <td>...</td>\n",
       "      <td>2.01047</td>\n",
       "      <td>6.15218</td>\n",
       "      <td>1.96171</td>\n",
       "      <td>3.13362</td>\n",
       "      <td>2.13524</td>\n",
       "      <td>2.20118</td>\n",
       "      <td>0.264165</td>\n",
       "      <td>1.7643</td>\n",
       "      <td>3.31802</td>\n",
       "      <td>3.25698</td>\n",
       "    </tr>\n",
       "    <tr>\n",
       "      <th>153</th>\n",
       "      <td>2020-10-16 00:00:00</td>\n",
       "      <td>1.76123</td>\n",
       "      <td>3.77399</td>\n",
       "      <td>3.18956</td>\n",
       "      <td>1.52863</td>\n",
       "      <td>1.0394</td>\n",
       "      <td>-1.26597</td>\n",
       "      <td>2.65205</td>\n",
       "      <td>2.54321</td>\n",
       "      <td>7.67945</td>\n",
       "      <td>...</td>\n",
       "      <td>0.49295</td>\n",
       "      <td>1.18083</td>\n",
       "      <td>1.34443</td>\n",
       "      <td>1.15075</td>\n",
       "      <td>0.390856</td>\n",
       "      <td>1.74179</td>\n",
       "      <td>6.16451</td>\n",
       "      <td>2.99211</td>\n",
       "      <td>2.65858</td>\n",
       "      <td>2.81311</td>\n",
       "    </tr>\n",
       "    <tr>\n",
       "      <th>154</th>\n",
       "      <td>2020-10-23 00:00:00</td>\n",
       "      <td>-5.83995</td>\n",
       "      <td>-3.89796</td>\n",
       "      <td>-2.89521</td>\n",
       "      <td>-1.08693</td>\n",
       "      <td>-0.599596</td>\n",
       "      <td>-2.5126</td>\n",
       "      <td>-0.117868</td>\n",
       "      <td>-0.457442</td>\n",
       "      <td>-4.28677</td>\n",
       "      <td>...</td>\n",
       "      <td>-1.1985</td>\n",
       "      <td>-4.47902</td>\n",
       "      <td>-4.60096</td>\n",
       "      <td>-3.43804</td>\n",
       "      <td>-2.92121</td>\n",
       "      <td>-2.51041</td>\n",
       "      <td>2.18632</td>\n",
       "      <td>-1.04421</td>\n",
       "      <td>1.24759</td>\n",
       "      <td>-3.88426</td>\n",
       "    </tr>\n",
       "    <tr>\n",
       "      <th>155</th>\n",
       "      <td>2020-10-30 00:00:00</td>\n",
       "      <td>-1.47196</td>\n",
       "      <td>-3.07165</td>\n",
       "      <td>-1.16473</td>\n",
       "      <td>-0.567319</td>\n",
       "      <td>-1.41088</td>\n",
       "      <td>1.09085</td>\n",
       "      <td>2.39476</td>\n",
       "      <td>-0.0179926</td>\n",
       "      <td>-3.98107</td>\n",
       "      <td>...</td>\n",
       "      <td>-1.91321</td>\n",
       "      <td>3.80522</td>\n",
       "      <td>-2.82042</td>\n",
       "      <td>-3.73378</td>\n",
       "      <td>-2.4063</td>\n",
       "      <td>-3.9292</td>\n",
       "      <td>-4.04639</td>\n",
       "      <td>-5.74875</td>\n",
       "      <td>3.91123</td>\n",
       "      <td>-0.404263</td>\n",
       "    </tr>\n",
       "    <tr>\n",
       "      <th>156</th>\n",
       "      <td>2020-11-04 00:00:00</td>\n",
       "      <td>0.924058</td>\n",
       "      <td>3.13102</td>\n",
       "      <td>2.79362</td>\n",
       "      <td>3.36667</td>\n",
       "      <td>6.041</td>\n",
       "      <td>3.56276</td>\n",
       "      <td>8.18298</td>\n",
       "      <td>2.03093</td>\n",
       "      <td>0.993648</td>\n",
       "      <td>...</td>\n",
       "      <td>0.883704</td>\n",
       "      <td>2.42639</td>\n",
       "      <td>2.73932</td>\n",
       "      <td>1.20306</td>\n",
       "      <td>0.691238</td>\n",
       "      <td>0.539869</td>\n",
       "      <td>2.73797</td>\n",
       "      <td>1.17252</td>\n",
       "      <td>5.39147</td>\n",
       "      <td>2.28789</td>\n",
       "    </tr>\n",
       "  </tbody>\n",
       "</table>\n",
       "<p>5 rows × 29 columns</p>\n",
       "</div>"
      ],
      "text/plain": [
       "                      0         1        2        3         4         5   \\\n",
       "152  2020-10-09 00:00:00   1.04712  2.51009  3.75365   1.85873   2.91338   \n",
       "153  2020-10-16 00:00:00   1.76123  3.77399  3.18956   1.52863    1.0394   \n",
       "154  2020-10-23 00:00:00  -5.83995 -3.89796 -2.89521  -1.08693 -0.599596   \n",
       "155  2020-10-30 00:00:00  -1.47196 -3.07165 -1.16473 -0.567319  -1.41088   \n",
       "156  2020-11-04 00:00:00  0.924058  3.13102  2.79362   3.36667     6.041   \n",
       "\n",
       "          6         7          8         9   ...        19       20       21  \\\n",
       "152  4.20236   2.17124    2.06572   3.24089  ...   2.01047  6.15218  1.96171   \n",
       "153 -1.26597   2.65205    2.54321   7.67945  ...   0.49295  1.18083  1.34443   \n",
       "154  -2.5126 -0.117868  -0.457442  -4.28677  ...   -1.1985 -4.47902 -4.60096   \n",
       "155  1.09085   2.39476 -0.0179926  -3.98107  ...  -1.91321  3.80522 -2.82042   \n",
       "156  3.56276   8.18298    2.03093  0.993648  ...  0.883704  2.42639  2.73932   \n",
       "\n",
       "          22        23        24        25       26       27        28  \n",
       "152  3.13362   2.13524   2.20118  0.264165   1.7643  3.31802   3.25698  \n",
       "153  1.15075  0.390856   1.74179   6.16451  2.99211  2.65858   2.81311  \n",
       "154 -3.43804  -2.92121  -2.51041   2.18632 -1.04421  1.24759  -3.88426  \n",
       "155 -3.73378   -2.4063   -3.9292  -4.04639 -5.74875  3.91123 -0.404263  \n",
       "156  1.20306  0.691238  0.539869   2.73797  1.17252  5.39147   2.28789  \n",
       "\n",
       "[5 rows x 29 columns]"
      ]
     },
     "execution_count": 81,
     "metadata": {},
     "output_type": "execute_result"
    }
   ],
   "source": [
    "data_processed.tail()"
   ]
  },
  {
   "cell_type": "markdown",
   "metadata": {},
   "source": [
    "向dataframe中添加新列："
   ]
  },
  {
   "cell_type": "code",
   "execution_count": 89,
   "metadata": {
    "scrolled": true
   },
   "outputs": [
    {
     "data": {
      "text/html": [
       "<div>\n",
       "<style scoped>\n",
       "    .dataframe tbody tr th:only-of-type {\n",
       "        vertical-align: middle;\n",
       "    }\n",
       "\n",
       "    .dataframe tbody tr th {\n",
       "        vertical-align: top;\n",
       "    }\n",
       "\n",
       "    .dataframe thead th {\n",
       "        text-align: right;\n",
       "    }\n",
       "</style>\n",
       "<table border=\"1\" class=\"dataframe\">\n",
       "  <thead>\n",
       "    <tr style=\"text-align: right;\">\n",
       "      <th></th>\n",
       "      <th>0</th>\n",
       "      <th>1</th>\n",
       "      <th>2</th>\n",
       "      <th>3</th>\n",
       "      <th>4</th>\n",
       "      <th>5</th>\n",
       "      <th>6</th>\n",
       "      <th>7</th>\n",
       "      <th>8</th>\n",
       "      <th>9</th>\n",
       "      <th>...</th>\n",
       "      <th>20</th>\n",
       "      <th>21</th>\n",
       "      <th>22</th>\n",
       "      <th>23</th>\n",
       "      <th>24</th>\n",
       "      <th>25</th>\n",
       "      <th>26</th>\n",
       "      <th>27</th>\n",
       "      <th>28</th>\n",
       "      <th>addingColumn</th>\n",
       "    </tr>\n",
       "  </thead>\n",
       "  <tbody>\n",
       "    <tr>\n",
       "      <th>1</th>\n",
       "      <td>日期</td>\n",
       "      <td>农林牧渔(申万)</td>\n",
       "      <td>采掘(申万)</td>\n",
       "      <td>化工(申万)</td>\n",
       "      <td>钢铁(申万)</td>\n",
       "      <td>有色金属(申万)</td>\n",
       "      <td>电子(申万)</td>\n",
       "      <td>家用电器(申万)</td>\n",
       "      <td>食品饮料(申万)</td>\n",
       "      <td>纺织服装(申万)</td>\n",
       "      <td>...</td>\n",
       "      <td>电气设备(申万)</td>\n",
       "      <td>国防军工(申万)</td>\n",
       "      <td>计算机(申万)</td>\n",
       "      <td>传媒(申万)</td>\n",
       "      <td>通信(申万)</td>\n",
       "      <td>银行(申万)</td>\n",
       "      <td>非银金融(申万)</td>\n",
       "      <td>汽车(申万)</td>\n",
       "      <td>机械设备(申万)</td>\n",
       "      <td>农林牧渔(申万)</td>\n",
       "    </tr>\n",
       "    <tr>\n",
       "      <th>2</th>\n",
       "      <td>Date</td>\n",
       "      <td>801010.SI</td>\n",
       "      <td>801020.SI</td>\n",
       "      <td>801030.SI</td>\n",
       "      <td>801040.SI</td>\n",
       "      <td>801050.SI</td>\n",
       "      <td>801080.SI</td>\n",
       "      <td>801110.SI</td>\n",
       "      <td>801120.SI</td>\n",
       "      <td>801130.SI</td>\n",
       "      <td>...</td>\n",
       "      <td>801730.SI</td>\n",
       "      <td>801740.SI</td>\n",
       "      <td>801750.SI</td>\n",
       "      <td>801760.SI</td>\n",
       "      <td>801770.SI</td>\n",
       "      <td>801780.SI</td>\n",
       "      <td>801790.SI</td>\n",
       "      <td>801880.SI</td>\n",
       "      <td>801890.SI</td>\n",
       "      <td>801010.SI</td>\n",
       "    </tr>\n",
       "    <tr>\n",
       "      <th>3</th>\n",
       "      <td>2017-11-10 00:00:00</td>\n",
       "      <td>1.4959</td>\n",
       "      <td>2.49598</td>\n",
       "      <td>2.98773</td>\n",
       "      <td>4.74229</td>\n",
       "      <td>0.914182</td>\n",
       "      <td>6.34559</td>\n",
       "      <td>7.09813</td>\n",
       "      <td>5.3385</td>\n",
       "      <td>1.26189</td>\n",
       "      <td>...</td>\n",
       "      <td>5.33065</td>\n",
       "      <td>2.94796</td>\n",
       "      <td>3.97764</td>\n",
       "      <td>2.33383</td>\n",
       "      <td>6.70756</td>\n",
       "      <td>-0.381549</td>\n",
       "      <td>4.83573</td>\n",
       "      <td>3.88528</td>\n",
       "      <td>2.05517</td>\n",
       "      <td>1.4959</td>\n",
       "    </tr>\n",
       "    <tr>\n",
       "      <th>4</th>\n",
       "      <td>2017-11-17 00:00:00</td>\n",
       "      <td>-0.632207</td>\n",
       "      <td>-3.32914</td>\n",
       "      <td>-3.66471</td>\n",
       "      <td>-0.595601</td>\n",
       "      <td>-6.80515</td>\n",
       "      <td>-5.54601</td>\n",
       "      <td>-1.47547</td>\n",
       "      <td>-0.82588</td>\n",
       "      <td>-4.65335</td>\n",
       "      <td>...</td>\n",
       "      <td>-5.12516</td>\n",
       "      <td>-5.42623</td>\n",
       "      <td>-3.9294</td>\n",
       "      <td>-5.26545</td>\n",
       "      <td>-3.41628</td>\n",
       "      <td>2.92473</td>\n",
       "      <td>1.77013</td>\n",
       "      <td>-3.86016</td>\n",
       "      <td>-5.32415</td>\n",
       "      <td>-0.632207</td>\n",
       "    </tr>\n",
       "    <tr>\n",
       "      <th>5</th>\n",
       "      <td>2017-11-24 00:00:00</td>\n",
       "      <td>-2.4523</td>\n",
       "      <td>1.07264</td>\n",
       "      <td>-1.40193</td>\n",
       "      <td>1.07774</td>\n",
       "      <td>2.27314</td>\n",
       "      <td>-3.21122</td>\n",
       "      <td>-1.63727</td>\n",
       "      <td>-6.34929</td>\n",
       "      <td>-2.33598</td>\n",
       "      <td>...</td>\n",
       "      <td>-2.5759</td>\n",
       "      <td>0.434629</td>\n",
       "      <td>-2.40598</td>\n",
       "      <td>-0.670392</td>\n",
       "      <td>-0.39913</td>\n",
       "      <td>3.01842</td>\n",
       "      <td>-1.16469</td>\n",
       "      <td>-2.50607</td>\n",
       "      <td>-0.452213</td>\n",
       "      <td>-2.4523</td>\n",
       "    </tr>\n",
       "  </tbody>\n",
       "</table>\n",
       "<p>5 rows × 30 columns</p>\n",
       "</div>"
      ],
      "text/plain": [
       "                     0          1          2          3          4          5  \\\n",
       "1                   日期   农林牧渔(申万)     采掘(申万)     化工(申万)     钢铁(申万)   有色金属(申万)   \n",
       "2                 Date  801010.SI  801020.SI  801030.SI  801040.SI  801050.SI   \n",
       "3  2017-11-10 00:00:00     1.4959    2.49598    2.98773    4.74229   0.914182   \n",
       "4  2017-11-17 00:00:00  -0.632207   -3.32914   -3.66471  -0.595601   -6.80515   \n",
       "5  2017-11-24 00:00:00    -2.4523    1.07264   -1.40193    1.07774    2.27314   \n",
       "\n",
       "           6          7          8          9  ...         20         21  \\\n",
       "1     电子(申万)   家用电器(申万)   食品饮料(申万)   纺织服装(申万)  ...   电气设备(申万)   国防军工(申万)   \n",
       "2  801080.SI  801110.SI  801120.SI  801130.SI  ...  801730.SI  801740.SI   \n",
       "3    6.34559    7.09813     5.3385    1.26189  ...    5.33065    2.94796   \n",
       "4   -5.54601   -1.47547   -0.82588   -4.65335  ...   -5.12516   -5.42623   \n",
       "5   -3.21122   -1.63727   -6.34929   -2.33598  ...    -2.5759   0.434629   \n",
       "\n",
       "          22         23         24         25         26         27  \\\n",
       "1    计算机(申万)     传媒(申万)     通信(申万)     银行(申万)   非银金融(申万)     汽车(申万)   \n",
       "2  801750.SI  801760.SI  801770.SI  801780.SI  801790.SI  801880.SI   \n",
       "3    3.97764    2.33383    6.70756  -0.381549    4.83573    3.88528   \n",
       "4    -3.9294   -5.26545   -3.41628    2.92473    1.77013   -3.86016   \n",
       "5   -2.40598  -0.670392   -0.39913    3.01842   -1.16469   -2.50607   \n",
       "\n",
       "          28 addingColumn  \n",
       "1   机械设备(申万)     农林牧渔(申万)  \n",
       "2  801890.SI    801010.SI  \n",
       "3    2.05517       1.4959  \n",
       "4   -5.32415    -0.632207  \n",
       "5  -0.452213      -2.4523  \n",
       "\n",
       "[5 rows x 30 columns]"
      ]
     },
     "execution_count": 89,
     "metadata": {},
     "output_type": "execute_result"
    }
   ],
   "source": [
    "#没什么用做样子看的\n",
    "data_processed['addingColumn'] = data_processed[1]\n",
    "data_processed.head()"
   ]
  },
  {
   "cell_type": "markdown",
   "metadata": {},
   "source": [
    "将dataframe中的列删除："
   ]
  },
  {
   "cell_type": "code",
   "execution_count": 90,
   "metadata": {},
   "outputs": [
    {
     "data": {
      "text/html": [
       "<div>\n",
       "<style scoped>\n",
       "    .dataframe tbody tr th:only-of-type {\n",
       "        vertical-align: middle;\n",
       "    }\n",
       "\n",
       "    .dataframe tbody tr th {\n",
       "        vertical-align: top;\n",
       "    }\n",
       "\n",
       "    .dataframe thead th {\n",
       "        text-align: right;\n",
       "    }\n",
       "</style>\n",
       "<table border=\"1\" class=\"dataframe\">\n",
       "  <thead>\n",
       "    <tr style=\"text-align: right;\">\n",
       "      <th></th>\n",
       "      <th>0</th>\n",
       "      <th>1</th>\n",
       "      <th>2</th>\n",
       "      <th>3</th>\n",
       "      <th>4</th>\n",
       "      <th>5</th>\n",
       "      <th>6</th>\n",
       "      <th>7</th>\n",
       "      <th>8</th>\n",
       "      <th>9</th>\n",
       "      <th>...</th>\n",
       "      <th>19</th>\n",
       "      <th>20</th>\n",
       "      <th>21</th>\n",
       "      <th>22</th>\n",
       "      <th>23</th>\n",
       "      <th>24</th>\n",
       "      <th>25</th>\n",
       "      <th>26</th>\n",
       "      <th>27</th>\n",
       "      <th>28</th>\n",
       "    </tr>\n",
       "  </thead>\n",
       "  <tbody>\n",
       "    <tr>\n",
       "      <th>1</th>\n",
       "      <td>日期</td>\n",
       "      <td>农林牧渔(申万)</td>\n",
       "      <td>采掘(申万)</td>\n",
       "      <td>化工(申万)</td>\n",
       "      <td>钢铁(申万)</td>\n",
       "      <td>有色金属(申万)</td>\n",
       "      <td>电子(申万)</td>\n",
       "      <td>家用电器(申万)</td>\n",
       "      <td>食品饮料(申万)</td>\n",
       "      <td>纺织服装(申万)</td>\n",
       "      <td>...</td>\n",
       "      <td>建筑装饰(申万)</td>\n",
       "      <td>电气设备(申万)</td>\n",
       "      <td>国防军工(申万)</td>\n",
       "      <td>计算机(申万)</td>\n",
       "      <td>传媒(申万)</td>\n",
       "      <td>通信(申万)</td>\n",
       "      <td>银行(申万)</td>\n",
       "      <td>非银金融(申万)</td>\n",
       "      <td>汽车(申万)</td>\n",
       "      <td>机械设备(申万)</td>\n",
       "    </tr>\n",
       "    <tr>\n",
       "      <th>2</th>\n",
       "      <td>Date</td>\n",
       "      <td>801010.SI</td>\n",
       "      <td>801020.SI</td>\n",
       "      <td>801030.SI</td>\n",
       "      <td>801040.SI</td>\n",
       "      <td>801050.SI</td>\n",
       "      <td>801080.SI</td>\n",
       "      <td>801110.SI</td>\n",
       "      <td>801120.SI</td>\n",
       "      <td>801130.SI</td>\n",
       "      <td>...</td>\n",
       "      <td>801720.SI</td>\n",
       "      <td>801730.SI</td>\n",
       "      <td>801740.SI</td>\n",
       "      <td>801750.SI</td>\n",
       "      <td>801760.SI</td>\n",
       "      <td>801770.SI</td>\n",
       "      <td>801780.SI</td>\n",
       "      <td>801790.SI</td>\n",
       "      <td>801880.SI</td>\n",
       "      <td>801890.SI</td>\n",
       "    </tr>\n",
       "    <tr>\n",
       "      <th>3</th>\n",
       "      <td>2017-11-10 00:00:00</td>\n",
       "      <td>1.4959</td>\n",
       "      <td>2.49598</td>\n",
       "      <td>2.98773</td>\n",
       "      <td>4.74229</td>\n",
       "      <td>0.914182</td>\n",
       "      <td>6.34559</td>\n",
       "      <td>7.09813</td>\n",
       "      <td>5.3385</td>\n",
       "      <td>1.26189</td>\n",
       "      <td>...</td>\n",
       "      <td>-1.05197</td>\n",
       "      <td>5.33065</td>\n",
       "      <td>2.94796</td>\n",
       "      <td>3.97764</td>\n",
       "      <td>2.33383</td>\n",
       "      <td>6.70756</td>\n",
       "      <td>-0.381549</td>\n",
       "      <td>4.83573</td>\n",
       "      <td>3.88528</td>\n",
       "      <td>2.05517</td>\n",
       "    </tr>\n",
       "    <tr>\n",
       "      <th>4</th>\n",
       "      <td>2017-11-17 00:00:00</td>\n",
       "      <td>-0.632207</td>\n",
       "      <td>-3.32914</td>\n",
       "      <td>-3.66471</td>\n",
       "      <td>-0.595601</td>\n",
       "      <td>-6.80515</td>\n",
       "      <td>-5.54601</td>\n",
       "      <td>-1.47547</td>\n",
       "      <td>-0.82588</td>\n",
       "      <td>-4.65335</td>\n",
       "      <td>...</td>\n",
       "      <td>-2.75882</td>\n",
       "      <td>-5.12516</td>\n",
       "      <td>-5.42623</td>\n",
       "      <td>-3.9294</td>\n",
       "      <td>-5.26545</td>\n",
       "      <td>-3.41628</td>\n",
       "      <td>2.92473</td>\n",
       "      <td>1.77013</td>\n",
       "      <td>-3.86016</td>\n",
       "      <td>-5.32415</td>\n",
       "    </tr>\n",
       "    <tr>\n",
       "      <th>5</th>\n",
       "      <td>2017-11-24 00:00:00</td>\n",
       "      <td>-2.4523</td>\n",
       "      <td>1.07264</td>\n",
       "      <td>-1.40193</td>\n",
       "      <td>1.07774</td>\n",
       "      <td>2.27314</td>\n",
       "      <td>-3.21122</td>\n",
       "      <td>-1.63727</td>\n",
       "      <td>-6.34929</td>\n",
       "      <td>-2.33598</td>\n",
       "      <td>...</td>\n",
       "      <td>-1.07522</td>\n",
       "      <td>-2.5759</td>\n",
       "      <td>0.434629</td>\n",
       "      <td>-2.40598</td>\n",
       "      <td>-0.670392</td>\n",
       "      <td>-0.39913</td>\n",
       "      <td>3.01842</td>\n",
       "      <td>-1.16469</td>\n",
       "      <td>-2.50607</td>\n",
       "      <td>-0.452213</td>\n",
       "    </tr>\n",
       "    <tr>\n",
       "      <th>...</th>\n",
       "      <td>...</td>\n",
       "      <td>...</td>\n",
       "      <td>...</td>\n",
       "      <td>...</td>\n",
       "      <td>...</td>\n",
       "      <td>...</td>\n",
       "      <td>...</td>\n",
       "      <td>...</td>\n",
       "      <td>...</td>\n",
       "      <td>...</td>\n",
       "      <td>...</td>\n",
       "      <td>...</td>\n",
       "      <td>...</td>\n",
       "      <td>...</td>\n",
       "      <td>...</td>\n",
       "      <td>...</td>\n",
       "      <td>...</td>\n",
       "      <td>...</td>\n",
       "      <td>...</td>\n",
       "      <td>...</td>\n",
       "      <td>...</td>\n",
       "    </tr>\n",
       "    <tr>\n",
       "      <th>152</th>\n",
       "      <td>2020-10-09 00:00:00</td>\n",
       "      <td>1.04712</td>\n",
       "      <td>2.51009</td>\n",
       "      <td>3.75365</td>\n",
       "      <td>1.85873</td>\n",
       "      <td>2.91338</td>\n",
       "      <td>4.20236</td>\n",
       "      <td>2.17124</td>\n",
       "      <td>2.06572</td>\n",
       "      <td>3.24089</td>\n",
       "      <td>...</td>\n",
       "      <td>2.01047</td>\n",
       "      <td>6.15218</td>\n",
       "      <td>1.96171</td>\n",
       "      <td>3.13362</td>\n",
       "      <td>2.13524</td>\n",
       "      <td>2.20118</td>\n",
       "      <td>0.264165</td>\n",
       "      <td>1.7643</td>\n",
       "      <td>3.31802</td>\n",
       "      <td>3.25698</td>\n",
       "    </tr>\n",
       "    <tr>\n",
       "      <th>153</th>\n",
       "      <td>2020-10-16 00:00:00</td>\n",
       "      <td>1.76123</td>\n",
       "      <td>3.77399</td>\n",
       "      <td>3.18956</td>\n",
       "      <td>1.52863</td>\n",
       "      <td>1.0394</td>\n",
       "      <td>-1.26597</td>\n",
       "      <td>2.65205</td>\n",
       "      <td>2.54321</td>\n",
       "      <td>7.67945</td>\n",
       "      <td>...</td>\n",
       "      <td>0.49295</td>\n",
       "      <td>1.18083</td>\n",
       "      <td>1.34443</td>\n",
       "      <td>1.15075</td>\n",
       "      <td>0.390856</td>\n",
       "      <td>1.74179</td>\n",
       "      <td>6.16451</td>\n",
       "      <td>2.99211</td>\n",
       "      <td>2.65858</td>\n",
       "      <td>2.81311</td>\n",
       "    </tr>\n",
       "    <tr>\n",
       "      <th>154</th>\n",
       "      <td>2020-10-23 00:00:00</td>\n",
       "      <td>-5.83995</td>\n",
       "      <td>-3.89796</td>\n",
       "      <td>-2.89521</td>\n",
       "      <td>-1.08693</td>\n",
       "      <td>-0.599596</td>\n",
       "      <td>-2.5126</td>\n",
       "      <td>-0.117868</td>\n",
       "      <td>-0.457442</td>\n",
       "      <td>-4.28677</td>\n",
       "      <td>...</td>\n",
       "      <td>-1.1985</td>\n",
       "      <td>-4.47902</td>\n",
       "      <td>-4.60096</td>\n",
       "      <td>-3.43804</td>\n",
       "      <td>-2.92121</td>\n",
       "      <td>-2.51041</td>\n",
       "      <td>2.18632</td>\n",
       "      <td>-1.04421</td>\n",
       "      <td>1.24759</td>\n",
       "      <td>-3.88426</td>\n",
       "    </tr>\n",
       "    <tr>\n",
       "      <th>155</th>\n",
       "      <td>2020-10-30 00:00:00</td>\n",
       "      <td>-1.47196</td>\n",
       "      <td>-3.07165</td>\n",
       "      <td>-1.16473</td>\n",
       "      <td>-0.567319</td>\n",
       "      <td>-1.41088</td>\n",
       "      <td>1.09085</td>\n",
       "      <td>2.39476</td>\n",
       "      <td>-0.0179926</td>\n",
       "      <td>-3.98107</td>\n",
       "      <td>...</td>\n",
       "      <td>-1.91321</td>\n",
       "      <td>3.80522</td>\n",
       "      <td>-2.82042</td>\n",
       "      <td>-3.73378</td>\n",
       "      <td>-2.4063</td>\n",
       "      <td>-3.9292</td>\n",
       "      <td>-4.04639</td>\n",
       "      <td>-5.74875</td>\n",
       "      <td>3.91123</td>\n",
       "      <td>-0.404263</td>\n",
       "    </tr>\n",
       "    <tr>\n",
       "      <th>156</th>\n",
       "      <td>2020-11-04 00:00:00</td>\n",
       "      <td>0.924058</td>\n",
       "      <td>3.13102</td>\n",
       "      <td>2.79362</td>\n",
       "      <td>3.36667</td>\n",
       "      <td>6.041</td>\n",
       "      <td>3.56276</td>\n",
       "      <td>8.18298</td>\n",
       "      <td>2.03093</td>\n",
       "      <td>0.993648</td>\n",
       "      <td>...</td>\n",
       "      <td>0.883704</td>\n",
       "      <td>2.42639</td>\n",
       "      <td>2.73932</td>\n",
       "      <td>1.20306</td>\n",
       "      <td>0.691238</td>\n",
       "      <td>0.539869</td>\n",
       "      <td>2.73797</td>\n",
       "      <td>1.17252</td>\n",
       "      <td>5.39147</td>\n",
       "      <td>2.28789</td>\n",
       "    </tr>\n",
       "  </tbody>\n",
       "</table>\n",
       "<p>156 rows × 29 columns</p>\n",
       "</div>"
      ],
      "text/plain": [
       "                      0          1          2          3          4   \\\n",
       "1                     日期   农林牧渔(申万)     采掘(申万)     化工(申万)     钢铁(申万)   \n",
       "2                   Date  801010.SI  801020.SI  801030.SI  801040.SI   \n",
       "3    2017-11-10 00:00:00     1.4959    2.49598    2.98773    4.74229   \n",
       "4    2017-11-17 00:00:00  -0.632207   -3.32914   -3.66471  -0.595601   \n",
       "5    2017-11-24 00:00:00    -2.4523    1.07264   -1.40193    1.07774   \n",
       "..                   ...        ...        ...        ...        ...   \n",
       "152  2020-10-09 00:00:00    1.04712    2.51009    3.75365    1.85873   \n",
       "153  2020-10-16 00:00:00    1.76123    3.77399    3.18956    1.52863   \n",
       "154  2020-10-23 00:00:00   -5.83995   -3.89796   -2.89521   -1.08693   \n",
       "155  2020-10-30 00:00:00   -1.47196   -3.07165   -1.16473  -0.567319   \n",
       "156  2020-11-04 00:00:00   0.924058    3.13102    2.79362    3.36667   \n",
       "\n",
       "            5          6          7          8          9   ...         19  \\\n",
       "1     有色金属(申万)     电子(申万)   家用电器(申万)   食品饮料(申万)   纺织服装(申万)  ...   建筑装饰(申万)   \n",
       "2    801050.SI  801080.SI  801110.SI  801120.SI  801130.SI  ...  801720.SI   \n",
       "3     0.914182    6.34559    7.09813     5.3385    1.26189  ...   -1.05197   \n",
       "4     -6.80515   -5.54601   -1.47547   -0.82588   -4.65335  ...   -2.75882   \n",
       "5      2.27314   -3.21122   -1.63727   -6.34929   -2.33598  ...   -1.07522   \n",
       "..         ...        ...        ...        ...        ...  ...        ...   \n",
       "152    2.91338    4.20236    2.17124    2.06572    3.24089  ...    2.01047   \n",
       "153     1.0394   -1.26597    2.65205    2.54321    7.67945  ...    0.49295   \n",
       "154  -0.599596    -2.5126  -0.117868  -0.457442   -4.28677  ...    -1.1985   \n",
       "155   -1.41088    1.09085    2.39476 -0.0179926   -3.98107  ...   -1.91321   \n",
       "156      6.041    3.56276    8.18298    2.03093   0.993648  ...   0.883704   \n",
       "\n",
       "            20         21         22         23         24         25  \\\n",
       "1     电气设备(申万)   国防军工(申万)    计算机(申万)     传媒(申万)     通信(申万)     银行(申万)   \n",
       "2    801730.SI  801740.SI  801750.SI  801760.SI  801770.SI  801780.SI   \n",
       "3      5.33065    2.94796    3.97764    2.33383    6.70756  -0.381549   \n",
       "4     -5.12516   -5.42623    -3.9294   -5.26545   -3.41628    2.92473   \n",
       "5      -2.5759   0.434629   -2.40598  -0.670392   -0.39913    3.01842   \n",
       "..         ...        ...        ...        ...        ...        ...   \n",
       "152    6.15218    1.96171    3.13362    2.13524    2.20118   0.264165   \n",
       "153    1.18083    1.34443    1.15075   0.390856    1.74179    6.16451   \n",
       "154   -4.47902   -4.60096   -3.43804   -2.92121   -2.51041    2.18632   \n",
       "155    3.80522   -2.82042   -3.73378    -2.4063    -3.9292   -4.04639   \n",
       "156    2.42639    2.73932    1.20306   0.691238   0.539869    2.73797   \n",
       "\n",
       "            26         27         28  \n",
       "1     非银金融(申万)     汽车(申万)   机械设备(申万)  \n",
       "2    801790.SI  801880.SI  801890.SI  \n",
       "3      4.83573    3.88528    2.05517  \n",
       "4      1.77013   -3.86016   -5.32415  \n",
       "5     -1.16469   -2.50607  -0.452213  \n",
       "..         ...        ...        ...  \n",
       "152     1.7643    3.31802    3.25698  \n",
       "153    2.99211    2.65858    2.81311  \n",
       "154   -1.04421    1.24759   -3.88426  \n",
       "155   -5.74875    3.91123  -0.404263  \n",
       "156    1.17252    5.39147    2.28789  \n",
       "\n",
       "[156 rows x 29 columns]"
      ]
     },
     "execution_count": 90,
     "metadata": {},
     "output_type": "execute_result"
    }
   ],
   "source": [
    "del data_processed['addingColumn']\n",
    "data_processed"
   ]
  },
  {
   "cell_type": "markdown",
   "metadata": {},
   "source": [
    "以及关于data.drop()：https://pandas.pydata.org/pandas-docs/version/0.21/generated/pandas.DataFrame.drop.html "
   ]
  },
  {
   "cell_type": "markdown",
   "metadata": {},
   "source": [
    "### 话说回来也可以针对某一列进行切片啊？？？"
   ]
  },
  {
   "cell_type": "code",
   "execution_count": 95,
   "metadata": {},
   "outputs": [
    {
     "data": {
      "text/plain": [
       "4   -0.632207\n",
       "5     -2.4523\n",
       "Name: 1, dtype: object"
      ]
     },
     "execution_count": 95,
     "metadata": {},
     "output_type": "execute_result"
    }
   ],
   "source": [
    "data_processed[1][3:5]"
   ]
  },
  {
   "cell_type": "markdown",
   "metadata": {},
   "source": [
    "计算一个月（4周）的行业指数涨幅均值。"
   ]
  },
  {
   "cell_type": "code",
   "execution_count": 15,
   "metadata": {
    "scrolled": true
   },
   "outputs": [
    {
     "name": "stdout",
     "output_type": "stream",
     "text": [
      "-1.0    0.535714\n",
      " 0.0    0.250000\n",
      " 1.0    0.107143\n",
      "-2.0    0.071429\n",
      " 3.0    0.035714\n",
      "dtype: float64\n"
     ]
    }
   ],
   "source": [
    "month = 4\n",
    "data = data_processed.iloc[2:month+2,1:]\n",
    "data = np.mean(data,axis = 0)\n",
    "key = data_processed.iloc[0,1:].values\n",
    "result = pd.Series(data.values,index = key)\n",
    "result = result.sort_values(ascending = False)\n",
    "#把数值都变为整数\n",
    "#test = result.astype(int)\n",
    "#但现在四舍入五会好一点\n",
    "test = np.around(result)\n",
    "#result = test.map(key)\n",
    "#print(test)\n",
    "#print(test,result)\n",
    "result = test.value_counts(normalize = True)\n",
    "print(result)"
   ]
  },
  {
   "cell_type": "markdown",
   "metadata": {},
   "source": [
    "##### 插播一个投掷硬币 正面：有饭吃 反面：没饭吃"
   ]
  },
  {
   "cell_type": "code",
   "execution_count": 110,
   "metadata": {},
   "outputs": [
    {
     "data": {
      "text/plain": [
       "0    0.501\n",
       "1    0.499\n",
       "dtype: float64"
      ]
     },
     "execution_count": 110,
     "metadata": {},
     "output_type": "execute_result"
    }
   ],
   "source": [
    "test = np.random.randint(low = 0, high =2, size = 1000)\n",
    "#np.bincount(test)\n",
    "test = pd.Series(test)\n",
    "result = test.value_counts(normalize = True)\n",
    "result"
   ]
  },
  {
   "cell_type": "markdown",
   "metadata": {},
   "source": [
    "#### 3.3数据集：\n",
    "\n",
    "如员工的流失率"
   ]
  },
  {
   "cell_type": "code",
   "execution_count": 31,
   "metadata": {},
   "outputs": [
    {
     "name": "stdout",
     "output_type": "stream",
     "text": [
      "16.122448979591837\n"
     ]
    }
   ],
   "source": [
    "attriton = 100*hrData['Attrition'].value_counts(normalize = True)['Yes']\n",
    "print(attriton)"
   ]
  },
  {
   "cell_type": "markdown",
   "metadata": {},
   "source": [
    "平均时薪："
   ]
  },
  {
   "cell_type": "code",
   "execution_count": 34,
   "metadata": {},
   "outputs": [
    {
     "data": {
      "text/plain": [
       "65.89115646258503"
      ]
     },
     "execution_count": 34,
     "metadata": {},
     "output_type": "execute_result"
    }
   ],
   "source": [
    "rate = np.mean(hrData['HourlyRate'])\n",
    "#hrData['HourlyRate'].mean()\n",
    "rate"
   ]
  },
  {
   "cell_type": "markdown",
   "metadata": {},
   "source": [
    "describe()方法可获得Series的其他描述性统计结果： "
   ]
  },
  {
   "cell_type": "code",
   "execution_count": 38,
   "metadata": {},
   "outputs": [
    {
     "name": "stdout",
     "output_type": "stream",
     "text": [
      "Index(['Age', 'Attrition', 'BusinessTravel', 'DailyRate', 'Department',\n",
      "       'DistanceFromHome', 'Education', 'EducationField', 'EmployeeCount',\n",
      "       'EmployeeNumber', 'EnvironmentSatisfaction', 'Gender', 'HourlyRate',\n",
      "       'JobInvolvement', 'JobLevel', 'JobRole', 'JobSatisfaction',\n",
      "       'MaritalStatus', 'MonthlyIncome', 'MonthlyRate', 'NumCompaniesWorked',\n",
      "       'Over18', 'OverTime', 'PercentSalaryHike', 'PerformanceRating',\n",
      "       'RelationshipSatisfaction', 'StandardHours', 'StockOptionLevel',\n",
      "       'TotalWorkingYears', 'TrainingTimesLastYear', 'WorkLifeBalance',\n",
      "       'YearsAtCompany', 'YearsInCurrentRole', 'YearsSinceLastPromotion',\n",
      "       'YearsWithCurrManager'],\n",
      "      dtype='object')\n"
     ]
    },
    {
     "data": {
      "text/plain": [
       "count    1470.000000\n",
       "mean       11.279592\n",
       "std         7.780782\n",
       "min         0.000000\n",
       "25%         6.000000\n",
       "50%        10.000000\n",
       "75%        15.000000\n",
       "max        40.000000\n",
       "Name: TotalWorkingYears, dtype: float64"
      ]
     },
     "execution_count": 38,
     "metadata": {},
     "output_type": "execute_result"
    }
   ],
   "source": [
    "print(hrData.columns)\n",
    "hrData['TotalWorkingYears'].describe()"
   ]
  }
 ],
 "metadata": {
  "kernelspec": {
   "display_name": "Python 3",
   "language": "python",
   "name": "python3"
  },
  "language_info": {
   "codemirror_mode": {
    "name": "ipython",
    "version": 3
   },
   "file_extension": ".py",
   "mimetype": "text/x-python",
   "name": "python",
   "nbconvert_exporter": "python",
   "pygments_lexer": "ipython3",
   "version": "3.8.3"
  }
 },
 "nbformat": 4,
 "nbformat_minor": 4
}
